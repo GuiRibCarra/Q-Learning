{
  "nbformat": 4,
  "nbformat_minor": 0,
  "metadata": {
    "colab": {
      "provenance": [],
      "authorship_tag": "ABX9TyOxZuuBVB9QHCNWLqjJMbcZ",
      "include_colab_link": true
    },
    "kernelspec": {
      "name": "python3",
      "display_name": "Python 3"
    },
    "language_info": {
      "name": "python"
    }
  },
  "cells": [
    {
      "cell_type": "markdown",
      "metadata": {
        "id": "view-in-github",
        "colab_type": "text"
      },
      "source": [
        "<a href=\"https://colab.research.google.com/github/GuiRibCarra/Q-Learning/blob/main/Q_Learning.ipynb\" target=\"_parent\"><img src=\"https://colab.research.google.com/assets/colab-badge.svg\" alt=\"Open In Colab\"/></a>"
      ]
    },
    {
      "cell_type": "code",
      "execution_count": null,
      "metadata": {
        "colab": {
          "base_uri": "https://localhost:8080/",
          "height": 742
        },
        "id": "hk6kBz4oZT-j",
        "outputId": "0fd17a9d-81f1-46c0-8d89-3596190ba845"
      },
      "outputs": [
        {
          "output_type": "stream",
          "name": "stdout",
          "text": [
            "Looking in indexes: https://pypi.org/simple, https://us-python.pkg.dev/colab-wheels/public/simple/\n",
            "Collecting gym==0.18.0\n",
            "  Downloading gym-0.18.0.tar.gz (1.6 MB)\n",
            "\u001b[2K     \u001b[90m━━━━━━━━━━━━━━━━━━━━━━━━━━━━━━━━━━━━━━━━\u001b[0m \u001b[32m1.6/1.6 MB\u001b[0m \u001b[31m36.8 MB/s\u001b[0m eta \u001b[36m0:00:00\u001b[0m\n",
            "\u001b[?25h  Preparing metadata (setup.py) ... \u001b[?25l\u001b[?25hdone\n",
            "Requirement already satisfied: scipy in /usr/local/lib/python3.8/dist-packages (from gym==0.18.0) (1.10.1)\n",
            "Requirement already satisfied: numpy>=1.10.4 in /usr/local/lib/python3.8/dist-packages (from gym==0.18.0) (1.22.4)\n",
            "Collecting pyglet<=1.5.0,>=1.4.0\n",
            "  Downloading pyglet-1.5.0-py2.py3-none-any.whl (1.0 MB)\n",
            "\u001b[2K     \u001b[90m━━━━━━━━━━━━━━━━━━━━━━━━━━━━━━━━━━━━━━━━\u001b[0m \u001b[32m1.0/1.0 MB\u001b[0m \u001b[31m17.7 MB/s\u001b[0m eta \u001b[36m0:00:00\u001b[0m\n",
            "\u001b[?25hCollecting Pillow<=7.2.0\n",
            "  Downloading Pillow-7.2.0-cp38-cp38-manylinux1_x86_64.whl (2.2 MB)\n",
            "\u001b[2K     \u001b[90m━━━━━━━━━━━━━━━━━━━━━━━━━━━━━━━━━━━━━━━━\u001b[0m \u001b[32m2.2/2.2 MB\u001b[0m \u001b[31m32.7 MB/s\u001b[0m eta \u001b[36m0:00:00\u001b[0m\n",
            "\u001b[?25hCollecting cloudpickle<1.7.0,>=1.2.0\n",
            "  Downloading cloudpickle-1.6.0-py3-none-any.whl (23 kB)\n",
            "Requirement already satisfied: future in /usr/local/lib/python3.8/dist-packages (from pyglet<=1.5.0,>=1.4.0->gym==0.18.0) (0.16.0)\n",
            "Building wheels for collected packages: gym\n",
            "  Building wheel for gym (setup.py) ... \u001b[?25l\u001b[?25hdone\n",
            "  Created wheel for gym: filename=gym-0.18.0-py3-none-any.whl size=1656446 sha256=c572f7f54d13d9f67f73072421a7c1eb66ba248ce933488fdcb34ad58fd98739\n",
            "  Stored in directory: /root/.cache/pip/wheels/d8/e7/68/a3f0f1b5831c9321d7523f6fd4e0d3f83f2705a1cbd5daaa79\n",
            "Successfully built gym\n",
            "Installing collected packages: pyglet, Pillow, cloudpickle, gym\n",
            "  Attempting uninstall: Pillow\n",
            "    Found existing installation: Pillow 8.4.0\n",
            "    Uninstalling Pillow-8.4.0:\n",
            "      Successfully uninstalled Pillow-8.4.0\n",
            "  Attempting uninstall: cloudpickle\n",
            "    Found existing installation: cloudpickle 2.2.1\n",
            "    Uninstalling cloudpickle-2.2.1:\n",
            "      Successfully uninstalled cloudpickle-2.2.1\n",
            "  Attempting uninstall: gym\n",
            "    Found existing installation: gym 0.25.2\n",
            "    Uninstalling gym-0.25.2:\n",
            "      Successfully uninstalled gym-0.25.2\n",
            "Successfully installed Pillow-7.2.0 cloudpickle-1.6.0 gym-0.18.0 pyglet-1.5.0\n"
          ]
        },
        {
          "output_type": "display_data",
          "data": {
            "application/vnd.colab-display-data+json": {
              "pip_warning": {
                "packages": [
                  "PIL"
                ]
              }
            }
          },
          "metadata": {}
        }
      ],
      "source": [
        "!pip install gym==0.18.0"
      ]
    },
    {
      "cell_type": "code",
      "source": [
        "import gym\n",
        "import random\n",
        "import os\n",
        "os.environ[\"SDL_VIDEODRIVER\"] = \"dummy\""
      ],
      "metadata": {
        "id": "ezY-K3R_Zg_I"
      },
      "execution_count": null,
      "outputs": []
    },
    {
      "cell_type": "code",
      "source": [
        "env = gym.make('Taxi-v3')"
      ],
      "metadata": {
        "id": "9V1EZ4GPZs8k"
      },
      "execution_count": null,
      "outputs": []
    },
    {
      "cell_type": "code",
      "source": [
        "env.render()"
      ],
      "metadata": {
        "colab": {
          "base_uri": "https://localhost:8080/"
        },
        "id": "ywsFSXPkZu2I",
        "outputId": "a49ecf72-452e-4d8f-ca39-bb2a8804caba"
      },
      "execution_count": null,
      "outputs": [
        {
          "output_type": "stream",
          "name": "stdout",
          "text": [
            "+---------+\n",
            "|\u001b[35mR\u001b[0m: | : :G|\n",
            "| : | : : |\n",
            "| : : : :\u001b[43m \u001b[0m|\n",
            "| | : | : |\n",
            "|Y| : |\u001b[34;1mB\u001b[0m: |\n",
            "+---------+\n",
            "\n"
          ]
        }
      ]
    },
    {
      "cell_type": "code",
      "source": [
        "# 0 = south 1 = north 2 = east 3 = west 4 = pickup 5 = dropoff\n",
        "print(env.action_space)"
      ],
      "metadata": {
        "colab": {
          "base_uri": "https://localhost:8080/"
        },
        "id": "jv8BFADXaBlr",
        "outputId": "40203a51-a5ab-49d3-ed55-184115d8f488"
      },
      "execution_count": null,
      "outputs": [
        {
          "output_type": "stream",
          "name": "stdout",
          "text": [
            "Discrete(6)\n"
          ]
        }
      ]
    },
    {
      "cell_type": "markdown",
      "source": [
        "# Treinamento"
      ],
      "metadata": {
        "id": "ilLDJLCwahzb"
      }
    },
    {
      "cell_type": "code",
      "source": [
        "import numpy as np\n",
        "q_table = np.zeros([env.observation_space.n,env.action_space.n])"
      ],
      "metadata": {
        "id": "kZcIv-e9buBL"
      },
      "execution_count": null,
      "outputs": []
    },
    {
      "cell_type": "code",
      "source": [
        "%%time\n",
        "from IPython.display import clear_output\n",
        "\n",
        "alpha = 0.1\n",
        "gamma = 0.6\n",
        "epsilon = 0.1\n",
        "\n",
        "for i in range(100000):\n",
        "  estado = env.reset()\n",
        "  penalidades , recompensa = 0,0\n",
        "  done = False\n",
        "  while not done:\n",
        "    #Exploration\n",
        "    if random.uniform(0,1) < epsilon:\n",
        "      acao = env.action_space.sample()\n",
        "    #Exploitation\n",
        "    else:\n",
        "      acao = np.argmax(q_table[estado])\n",
        "\n",
        "    proximo_estado, recompensa, done, info = env.step(acao)\n",
        "\n",
        "    q_antigo = q_table[estado,acao]\n",
        "    proximo_maximo = np.max(q_table[proximo_estado])\n",
        "\n",
        "    q_novo = (1 - alpha) * q_antigo + alpha * (recompensa + gamma * proximo_maximo)\n",
        "    q_table[estado, acao] = q_novo\n",
        "\n",
        "    if recompensa == -10:\n",
        "      penalidades += 1\n",
        "\n",
        "    estado = proximo_estado\n",
        "\n",
        "  if i % 100 == 0:\n",
        "    clear_output(wait=True)\n",
        "    print('Episódio: ', i)\n",
        "\n",
        "print('Treinamento concluído')"
      ],
      "metadata": {
        "colab": {
          "base_uri": "https://localhost:8080/"
        },
        "id": "oh7oWfteaj-4",
        "outputId": "e9832070-e42c-42d2-e086-43b66fa0a4b2"
      },
      "execution_count": null,
      "outputs": [
        {
          "output_type": "stream",
          "name": "stdout",
          "text": [
            "Episódio:  99900\n",
            "Treinamento concluído\n",
            "CPU times: user 1min 27s, sys: 10.3 s, total: 1min 37s\n",
            "Wall time: 1min 30s\n"
          ]
        }
      ]
    },
    {
      "cell_type": "code",
      "source": [
        "env.reset()\n",
        "env.render()"
      ],
      "metadata": {
        "colab": {
          "base_uri": "https://localhost:8080/"
        },
        "id": "_piQph5ceVEo",
        "outputId": "4f2020d0-e379-4de3-a9ca-127e52184aa2"
      },
      "execution_count": null,
      "outputs": [
        {
          "output_type": "stream",
          "name": "stdout",
          "text": [
            "+---------+\n",
            "|\u001b[35mR\u001b[0m: | : :G|\n",
            "| : | : : |\n",
            "| : : : : |\n",
            "| | :\u001b[43m \u001b[0m| : |\n",
            "|Y| : |\u001b[34;1mB\u001b[0m: |\n",
            "+---------+\n",
            "\n"
          ]
        }
      ]
    },
    {
      "cell_type": "markdown",
      "source": [
        "# Avaliação"
      ],
      "metadata": {
        "id": "kRfiIOLTem5H"
      }
    },
    {
      "cell_type": "code",
      "source": [
        "total_penalidades = 0\n",
        "episodios = 50\n",
        "frames = []\n",
        "\n",
        "for _ in range(episodios):\n",
        "  estado = env.reset()\n",
        "  penalidades, recompensa = 0, 0\n",
        "  done = False\n",
        "  while not done:\n",
        "    acao = np.argmax(q_table[estado])\n",
        "    estado, recompensa, done, info = env.step(acao)\n",
        "\n",
        "    if recompensa == -10:\n",
        "      penalidades += 1\n",
        "\n",
        "    frames.append({\n",
        "        'frame': env.render(mode='ansi'),\n",
        "        'state': estado,\n",
        "        'action': acao,\n",
        "        'reward': recompensa\n",
        "    })\n",
        "\n",
        "  total_penalidades += penalidades\n",
        "\n",
        "print('Episódios', episodios)\n",
        "print('Penalidades', total_penalidades)"
      ],
      "metadata": {
        "colab": {
          "base_uri": "https://localhost:8080/"
        },
        "id": "mLu9ydJNepPp",
        "outputId": "2d095fe7-a187-447a-c690-a735d5eec04c"
      },
      "execution_count": null,
      "outputs": [
        {
          "output_type": "stream",
          "name": "stdout",
          "text": [
            "Episódios 50\n",
            "Penalidades 0\n"
          ]
        }
      ]
    },
    {
      "cell_type": "code",
      "source": [
        "from time import sleep\n",
        "for frame in frames:\n",
        "  clear_output(wait=True)\n",
        "  print(frame['frame'])\n",
        "  print('Estado', frame['state'])\n",
        "  print('Ação', frame['action'])\n",
        "  print('Recompensa', frame['reward'])\n",
        "  sleep(.1)"
      ],
      "metadata": {
        "colab": {
          "base_uri": "https://localhost:8080/"
        },
        "id": "5K9rYU6dfb3V",
        "outputId": "d8cd6cfa-6f57-4736-d86c-53480c42d837"
      },
      "execution_count": null,
      "outputs": [
        {
          "output_type": "stream",
          "name": "stdout",
          "text": [
            "+---------+\n",
            "|R: | : :G|\n",
            "| : | : : |\n",
            "| : : : : |\n",
            "| | : | : |\n",
            "|\u001b[35m\u001b[34;1m\u001b[43mY\u001b[0m\u001b[0m\u001b[0m| : |B: |\n",
            "+---------+\n",
            "  (Dropoff)\n",
            "\n",
            "Estado 410\n",
            "Ação 5\n",
            "Recompensa 20\n"
          ]
        }
      ]
    }
  ]
}